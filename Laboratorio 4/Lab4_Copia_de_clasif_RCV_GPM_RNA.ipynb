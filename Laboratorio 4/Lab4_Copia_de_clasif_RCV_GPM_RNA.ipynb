{
  "cells": [
    {
      "cell_type": "markdown",
      "metadata": {
        "id": "view-in-github",
        "colab_type": "text"
      },
      "source": [
        "<a href=\"https://colab.research.google.com/github/Jason20262/-SeminarioBigdata/blob/main/Lab4_Copia_de_clasif_RCV_GPM_RNA.ipynb\" target=\"_parent\"><img src=\"https://colab.research.google.com/assets/colab-badge.svg\" alt=\"Open In Colab\"/></a>"
      ]
    },
    {
      "cell_type": "markdown",
      "id": "inappropriate-farmer",
      "metadata": {
        "id": "inappropriate-farmer"
      },
      "source": [
        "# Redes Neuronales Artificiales Para Predecir Riesgo Cardiovascular\n",
        "\n",
        "**Autor: Elias Buitrago**\\\n",
        "Bogotá, Colombia \\\n",
        "Actualizado: 18 oct 2023 \\\n",
        "_Nota: Código ajustado para su ejecución en Google Colaboratory_\\\n",
        "Verificado con las siguientes versiones: Python 3.10.12, Tensorflow: 2.13.0, Keras: 2.13.1_"
      ]
    },
    {
      "cell_type": "markdown",
      "id": "adapted-handle",
      "metadata": {
        "id": "adapted-handle"
      },
      "source": [
        "## Cargar librerías\n",
        "The Python programming language relies on specialized code libraries for various functionalities. For example, if we want to graph we can invoke (call, load) a specialized library such as matplotlib. This packaging of code with concrete functions and the like is similar to what R software does with packages. Next, the libraries required for the correct training of multilayer perceptron neural networks are imported. The specialized libraries specifically for training neural networks to predict cardiovascular risk are TensorFlow (_version 2.13.0_) and Keras (_version 2.13.1_).\n",
        "\n",
        "<!-- El lenguaje de programación python se apoya en librerías de código especializadas en diversas funcionalidades. Por ejemplo, si queremos graficar podemos invocar (llamar, cargar) una librerías especilizada como matplotlib. ESte empaquetamiento de código con funciones concretas y similares, se asemeja a los que hace el software R con los paquetes. A continuación, se importan las librerías requeridas para el correcto entrenamiento de redes neuronales del tipo perceptrón multicapa. Las librerías especializadas, específicamente para entrenar las redes neuronales para predecri riesgo cardiovascular son las siguientes TensorFlow (_versión 2.13.0_) y Keras (_versión 2.13.1_). -->"
      ]
    },
    {
      "cell_type": "code",
      "execution_count": null,
      "id": "cardiovascular-satin",
      "metadata": {
        "id": "cardiovascular-satin"
      },
      "outputs": [],
      "source": [
        "# Librerías básicas de Python\n",
        "import numpy as np\n",
        "import pandas as pd\n",
        "import matplotlib.pyplot as plt\n",
        "\n",
        "# Librería para calcular tiempo de ejecución\n",
        "from time import process_time\n",
        "\n",
        "# Librerías para particionar conjunto de datos\n",
        "from sklearn.preprocessing import StandardScaler\n",
        "from sklearn.model_selection import train_test_split as split\n",
        "\n",
        "# Funciones requeridas de la librerías que permite entrenar redes neuronales\n",
        "# artificiales\n",
        "from tensorflow.keras import models\n",
        "from tensorflow.keras.layers import Dense\n",
        "from tensorflow.keras import optimizers\n",
        "from tensorflow.keras import utils as np_utils\n",
        "\n",
        "# Funciones requeridas de la librería para evaluar desempeño de la RNA\n",
        "from sklearn.metrics import roc_curve, roc_auc_score\n",
        "from sklearn.metrics import classification_report, confusion_matrix"
      ]
    },
    {
      "cell_type": "markdown",
      "source": [
        "## Verificación de versiones de librerías\n",
        "De manera rutinaria se recomienda hacer la verificación de la versión actual de las versiones de Python, TensorFlow y Keras. Por lo tanto a continuación se mnuestran las lineas de código para verificar las versiones de dichas librerías, incluyendo la versión del sistema operativo. Google Colaboratory se ejecuta sobre un sistema operatio Linux distribución Ubuntu,"
      ],
      "metadata": {
        "id": "foKFuPu-R0To"
      },
      "id": "foKFuPu-R0To"
    },
    {
      "cell_type": "code",
      "source": [
        "import tensorflow\n",
        "import keras\n",
        "print(\"El sistema operativo base de Google Colaboratory es: \")\n",
        "!lsb_release -a\n",
        "print(\"La versión actual de Python es: \")\n",
        "!python --version\n",
        "print(\"La versión instalada de Tensorflow es: \" + tensorflow.__version__)\n",
        "print(\"La versión instalada de Keras es: \" + keras.__version__)"
      ],
      "metadata": {
        "colab": {
          "base_uri": "https://localhost:8080/"
        },
        "id": "iJ-XtMkY7Y4h",
        "outputId": "487b8df1-9e9b-4657-aaa0-2062354062fa"
      },
      "id": "iJ-XtMkY7Y4h",
      "execution_count": null,
      "outputs": [
        {
          "output_type": "stream",
          "name": "stdout",
          "text": [
            "El sistema operativo base de Google Colaboratory es: \n",
            "No LSB modules are available.\n",
            "Distributor ID:\tUbuntu\n",
            "Description:\tUbuntu 22.04.3 LTS\n",
            "Release:\t22.04\n",
            "Codename:\tjammy\n",
            "La versión actual de Python es: \n",
            "Python 3.10.12\n",
            "La versión instalada de Tensorflow es: 2.15.0\n",
            "La versión instalada de Keras es: 2.15.0\n"
          ]
        }
      ]
    },
    {
      "cell_type": "markdown",
      "id": "nasty-transparency",
      "metadata": {
        "id": "nasty-transparency"
      },
      "source": [
        "## Cargar datos\n",
        "En el contexto del presente taller, los datos que se utilizan para el entrenamiento, evaluación y validación se almacenan en un directorio de Google Drive del mismo usuario actual de Google Colaboratory. Para acceder a los datos solo se requiere ejecutar la primera celda de código de esta sección, luego brindar los permisos de acceo respectivo y, finalmente, cambiar la ruta de acceso al archivo de los datos."
      ]
    },
    {
      "cell_type": "code",
      "source": [
        "from google.colab import drive\n",
        "drive.mount('/content/drive')"
      ],
      "metadata": {
        "id": "9LuuavIPie6Z",
        "colab": {
          "base_uri": "https://localhost:8080/"
        },
        "outputId": "bdde0bb3-10a9-4f90-e0fd-519c09e3e41a"
      },
      "id": "9LuuavIPie6Z",
      "execution_count": null,
      "outputs": [
        {
          "output_type": "stream",
          "name": "stdout",
          "text": [
            "Drive already mounted at /content/drive; to attempt to forcibly remount, call drive.mount(\"/content/drive\", force_remount=True).\n"
          ]
        }
      ]
    },
    {
      "cell_type": "code",
      "execution_count": null,
      "id": "applicable-darkness",
      "metadata": {
        "id": "applicable-darkness"
      },
      "outputs": [],
      "source": [
        "data = pd.read_excel(\"/content/drive/MyDrive/BigData/Lab4/pacientes_rcv_limpio.xlsx\")\n",
        "\n",
        "#Editar Rutas:\n",
        "# Ruta Johan data = pd.read_excel(\"/content/drive/MyDrive/BigData/Lab4/pacientes_rcv_limpio.xlsx\")\n",
        "# Ruta Jason data = pd.read_excel(\"/content/drive/MyDrive/BigData/Lab4/pacientes_rcv_limpio.xlsx\")\n",
        "# Ruta Daniel data = pd.read_excel(\"/content/drive/MyDrive/BigData/Lab4/pacientes_rcv_limpio.xlsx\")\n",
        "target = data.loc[:, 'Clasificación de RCV Global'].astype(int)\n",
        "data = data.drop(['Clasificación de RCV Global'], axis=1)\n",
        "target=pd.Categorical(target).codes"
      ]
    },
    {
      "cell_type": "code",
      "source": [
        "print(data.shape)\n",
        "data.head()"
      ],
      "metadata": {
        "id": "-NPpefeF2L9D",
        "colab": {
          "base_uri": "https://localhost:8080/",
          "height": 343
        },
        "outputId": "5d121f3f-3cc9-4066-eb7a-f5f461915a2f"
      },
      "id": "-NPpefeF2L9D",
      "execution_count": null,
      "outputs": [
        {
          "output_type": "stream",
          "name": "stdout",
          "text": [
            "(3000, 35)\n"
          ]
        },
        {
          "output_type": "execute_result",
          "data": {
            "text/plain": [
              "   Edad (años)  Genero  Zona  Fumador Activo  ¿Diabetes?  \\\n",
              "0           82       2     1               1           1   \n",
              "1           83       2     1               1           1   \n",
              "2           54       2     1               1           1   \n",
              "3           68       2     1               1           1   \n",
              "4           68       2     1               1           2   \n",
              "\n",
              "   Hipertensión Arterial Sistemica  HTA + DM  \\\n",
              "0                                2         1   \n",
              "1                                2         1   \n",
              "2                                1         1   \n",
              "3                                1         1   \n",
              "4                                1         1   \n",
              "\n",
              "   Clasificacion de Diabetes o del ultimo estado de Glicemia  \\\n",
              "0                                                0.0           \n",
              "1                                                0.0           \n",
              "2                                                0.0           \n",
              "3                                                0.0           \n",
              "4                                                2.0           \n",
              "\n",
              "   Complicaciones  y Lesiones en Organo Blanco  \\\n",
              "0                                            1   \n",
              "1                                            1   \n",
              "2                                            1   \n",
              "3                                            1   \n",
              "4                                            1   \n",
              "\n",
              "   Antecedentes_Fliar_Enfermedad_Coronaria  ...  Creatinina  \\\n",
              "0                                        1  ...       132.0   \n",
              "1                                        1  ...        97.0   \n",
              "2                                        1  ...        97.0   \n",
              "3                                        1  ...        86.0   \n",
              "4                                        1  ...        71.0   \n",
              "\n",
              "   Factor de corrección de la formula  Proteinuria  \\\n",
              "0                                  85          0.0   \n",
              "1                                  85          0.0   \n",
              "2                                  85          0.0   \n",
              "3                                  85          0.0   \n",
              "4                                  85          0.0   \n",
              "\n",
              "   Calculo de  TFG corregida (Cockcroft-Gault)  Estadio IRC  \\\n",
              "0                                    37.348485          3.0   \n",
              "1                                    33.000000          3.0   \n",
              "2                                    51.000000          3.0   \n",
              "3                                    53.372093          3.0   \n",
              "4                                    68.239437          2.0   \n",
              "\n",
              "   Remisiones Especialidad  Farmacos  Antihipertensivos  Estatina  \\\n",
              "0                      1.0                          1.0         0   \n",
              "1                      1.0                          2.0         0   \n",
              "2                      1.0                          3.0         0   \n",
              "3                      1.0                          1.0         0   \n",
              "4                      1.0                          2.0         0   \n",
              "\n",
              "   Antidiabeticos  Adherencia al tratamiento  \n",
              "0             2.0                        1.0  \n",
              "1             0.0                        1.0  \n",
              "2             0.0                        1.0  \n",
              "3             0.0                        1.0  \n",
              "4             3.0                        1.0  \n",
              "\n",
              "[5 rows x 35 columns]"
            ],
            "text/html": [
              "\n",
              "  <div id=\"df-be58d447-9d7a-4b19-8b6d-83aea6fac2e8\" class=\"colab-df-container\">\n",
              "    <div>\n",
              "<style scoped>\n",
              "    .dataframe tbody tr th:only-of-type {\n",
              "        vertical-align: middle;\n",
              "    }\n",
              "\n",
              "    .dataframe tbody tr th {\n",
              "        vertical-align: top;\n",
              "    }\n",
              "\n",
              "    .dataframe thead th {\n",
              "        text-align: right;\n",
              "    }\n",
              "</style>\n",
              "<table border=\"1\" class=\"dataframe\">\n",
              "  <thead>\n",
              "    <tr style=\"text-align: right;\">\n",
              "      <th></th>\n",
              "      <th>Edad (años)</th>\n",
              "      <th>Genero</th>\n",
              "      <th>Zona</th>\n",
              "      <th>Fumador Activo</th>\n",
              "      <th>¿Diabetes?</th>\n",
              "      <th>Hipertensión Arterial Sistemica</th>\n",
              "      <th>HTA + DM</th>\n",
              "      <th>Clasificacion de Diabetes o del ultimo estado de Glicemia</th>\n",
              "      <th>Complicaciones  y Lesiones en Organo Blanco</th>\n",
              "      <th>Antecedentes_Fliar_Enfermedad_Coronaria</th>\n",
              "      <th>...</th>\n",
              "      <th>Creatinina</th>\n",
              "      <th>Factor de corrección de la formula</th>\n",
              "      <th>Proteinuria</th>\n",
              "      <th>Calculo de  TFG corregida (Cockcroft-Gault)</th>\n",
              "      <th>Estadio IRC</th>\n",
              "      <th>Remisiones Especialidad</th>\n",
              "      <th>Farmacos  Antihipertensivos</th>\n",
              "      <th>Estatina</th>\n",
              "      <th>Antidiabeticos</th>\n",
              "      <th>Adherencia al tratamiento</th>\n",
              "    </tr>\n",
              "  </thead>\n",
              "  <tbody>\n",
              "    <tr>\n",
              "      <th>0</th>\n",
              "      <td>82</td>\n",
              "      <td>2</td>\n",
              "      <td>1</td>\n",
              "      <td>1</td>\n",
              "      <td>1</td>\n",
              "      <td>2</td>\n",
              "      <td>1</td>\n",
              "      <td>0.0</td>\n",
              "      <td>1</td>\n",
              "      <td>1</td>\n",
              "      <td>...</td>\n",
              "      <td>132.0</td>\n",
              "      <td>85</td>\n",
              "      <td>0.0</td>\n",
              "      <td>37.348485</td>\n",
              "      <td>3.0</td>\n",
              "      <td>1.0</td>\n",
              "      <td>1.0</td>\n",
              "      <td>0</td>\n",
              "      <td>2.0</td>\n",
              "      <td>1.0</td>\n",
              "    </tr>\n",
              "    <tr>\n",
              "      <th>1</th>\n",
              "      <td>83</td>\n",
              "      <td>2</td>\n",
              "      <td>1</td>\n",
              "      <td>1</td>\n",
              "      <td>1</td>\n",
              "      <td>2</td>\n",
              "      <td>1</td>\n",
              "      <td>0.0</td>\n",
              "      <td>1</td>\n",
              "      <td>1</td>\n",
              "      <td>...</td>\n",
              "      <td>97.0</td>\n",
              "      <td>85</td>\n",
              "      <td>0.0</td>\n",
              "      <td>33.000000</td>\n",
              "      <td>3.0</td>\n",
              "      <td>1.0</td>\n",
              "      <td>2.0</td>\n",
              "      <td>0</td>\n",
              "      <td>0.0</td>\n",
              "      <td>1.0</td>\n",
              "    </tr>\n",
              "    <tr>\n",
              "      <th>2</th>\n",
              "      <td>54</td>\n",
              "      <td>2</td>\n",
              "      <td>1</td>\n",
              "      <td>1</td>\n",
              "      <td>1</td>\n",
              "      <td>1</td>\n",
              "      <td>1</td>\n",
              "      <td>0.0</td>\n",
              "      <td>1</td>\n",
              "      <td>1</td>\n",
              "      <td>...</td>\n",
              "      <td>97.0</td>\n",
              "      <td>85</td>\n",
              "      <td>0.0</td>\n",
              "      <td>51.000000</td>\n",
              "      <td>3.0</td>\n",
              "      <td>1.0</td>\n",
              "      <td>3.0</td>\n",
              "      <td>0</td>\n",
              "      <td>0.0</td>\n",
              "      <td>1.0</td>\n",
              "    </tr>\n",
              "    <tr>\n",
              "      <th>3</th>\n",
              "      <td>68</td>\n",
              "      <td>2</td>\n",
              "      <td>1</td>\n",
              "      <td>1</td>\n",
              "      <td>1</td>\n",
              "      <td>1</td>\n",
              "      <td>1</td>\n",
              "      <td>0.0</td>\n",
              "      <td>1</td>\n",
              "      <td>1</td>\n",
              "      <td>...</td>\n",
              "      <td>86.0</td>\n",
              "      <td>85</td>\n",
              "      <td>0.0</td>\n",
              "      <td>53.372093</td>\n",
              "      <td>3.0</td>\n",
              "      <td>1.0</td>\n",
              "      <td>1.0</td>\n",
              "      <td>0</td>\n",
              "      <td>0.0</td>\n",
              "      <td>1.0</td>\n",
              "    </tr>\n",
              "    <tr>\n",
              "      <th>4</th>\n",
              "      <td>68</td>\n",
              "      <td>2</td>\n",
              "      <td>1</td>\n",
              "      <td>1</td>\n",
              "      <td>2</td>\n",
              "      <td>1</td>\n",
              "      <td>1</td>\n",
              "      <td>2.0</td>\n",
              "      <td>1</td>\n",
              "      <td>1</td>\n",
              "      <td>...</td>\n",
              "      <td>71.0</td>\n",
              "      <td>85</td>\n",
              "      <td>0.0</td>\n",
              "      <td>68.239437</td>\n",
              "      <td>2.0</td>\n",
              "      <td>1.0</td>\n",
              "      <td>2.0</td>\n",
              "      <td>0</td>\n",
              "      <td>3.0</td>\n",
              "      <td>1.0</td>\n",
              "    </tr>\n",
              "  </tbody>\n",
              "</table>\n",
              "<p>5 rows × 35 columns</p>\n",
              "</div>\n",
              "    <div class=\"colab-df-buttons\">\n",
              "\n",
              "  <div class=\"colab-df-container\">\n",
              "    <button class=\"colab-df-convert\" onclick=\"convertToInteractive('df-be58d447-9d7a-4b19-8b6d-83aea6fac2e8')\"\n",
              "            title=\"Convert this dataframe to an interactive table.\"\n",
              "            style=\"display:none;\">\n",
              "\n",
              "  <svg xmlns=\"http://www.w3.org/2000/svg\" height=\"24px\" viewBox=\"0 -960 960 960\">\n",
              "    <path d=\"M120-120v-720h720v720H120Zm60-500h600v-160H180v160Zm220 220h160v-160H400v160Zm0 220h160v-160H400v160ZM180-400h160v-160H180v160Zm440 0h160v-160H620v160ZM180-180h160v-160H180v160Zm440 0h160v-160H620v160Z\"/>\n",
              "  </svg>\n",
              "    </button>\n",
              "\n",
              "  <style>\n",
              "    .colab-df-container {\n",
              "      display:flex;\n",
              "      gap: 12px;\n",
              "    }\n",
              "\n",
              "    .colab-df-convert {\n",
              "      background-color: #E8F0FE;\n",
              "      border: none;\n",
              "      border-radius: 50%;\n",
              "      cursor: pointer;\n",
              "      display: none;\n",
              "      fill: #1967D2;\n",
              "      height: 32px;\n",
              "      padding: 0 0 0 0;\n",
              "      width: 32px;\n",
              "    }\n",
              "\n",
              "    .colab-df-convert:hover {\n",
              "      background-color: #E2EBFA;\n",
              "      box-shadow: 0px 1px 2px rgba(60, 64, 67, 0.3), 0px 1px 3px 1px rgba(60, 64, 67, 0.15);\n",
              "      fill: #174EA6;\n",
              "    }\n",
              "\n",
              "    .colab-df-buttons div {\n",
              "      margin-bottom: 4px;\n",
              "    }\n",
              "\n",
              "    [theme=dark] .colab-df-convert {\n",
              "      background-color: #3B4455;\n",
              "      fill: #D2E3FC;\n",
              "    }\n",
              "\n",
              "    [theme=dark] .colab-df-convert:hover {\n",
              "      background-color: #434B5C;\n",
              "      box-shadow: 0px 1px 3px 1px rgba(0, 0, 0, 0.15);\n",
              "      filter: drop-shadow(0px 1px 2px rgba(0, 0, 0, 0.3));\n",
              "      fill: #FFFFFF;\n",
              "    }\n",
              "  </style>\n",
              "\n",
              "    <script>\n",
              "      const buttonEl =\n",
              "        document.querySelector('#df-be58d447-9d7a-4b19-8b6d-83aea6fac2e8 button.colab-df-convert');\n",
              "      buttonEl.style.display =\n",
              "        google.colab.kernel.accessAllowed ? 'block' : 'none';\n",
              "\n",
              "      async function convertToInteractive(key) {\n",
              "        const element = document.querySelector('#df-be58d447-9d7a-4b19-8b6d-83aea6fac2e8');\n",
              "        const dataTable =\n",
              "          await google.colab.kernel.invokeFunction('convertToInteractive',\n",
              "                                                    [key], {});\n",
              "        if (!dataTable) return;\n",
              "\n",
              "        const docLinkHtml = 'Like what you see? Visit the ' +\n",
              "          '<a target=\"_blank\" href=https://colab.research.google.com/notebooks/data_table.ipynb>data table notebook</a>'\n",
              "          + ' to learn more about interactive tables.';\n",
              "        element.innerHTML = '';\n",
              "        dataTable['output_type'] = 'display_data';\n",
              "        await google.colab.output.renderOutput(dataTable, element);\n",
              "        const docLink = document.createElement('div');\n",
              "        docLink.innerHTML = docLinkHtml;\n",
              "        element.appendChild(docLink);\n",
              "      }\n",
              "    </script>\n",
              "  </div>\n",
              "\n",
              "\n",
              "<div id=\"df-0652b767-fcdf-4f64-8915-01d9c5504db1\">\n",
              "  <button class=\"colab-df-quickchart\" onclick=\"quickchart('df-0652b767-fcdf-4f64-8915-01d9c5504db1')\"\n",
              "            title=\"Suggest charts\"\n",
              "            style=\"display:none;\">\n",
              "\n",
              "<svg xmlns=\"http://www.w3.org/2000/svg\" height=\"24px\"viewBox=\"0 0 24 24\"\n",
              "     width=\"24px\">\n",
              "    <g>\n",
              "        <path d=\"M19 3H5c-1.1 0-2 .9-2 2v14c0 1.1.9 2 2 2h14c1.1 0 2-.9 2-2V5c0-1.1-.9-2-2-2zM9 17H7v-7h2v7zm4 0h-2V7h2v10zm4 0h-2v-4h2v4z\"/>\n",
              "    </g>\n",
              "</svg>\n",
              "  </button>\n",
              "\n",
              "<style>\n",
              "  .colab-df-quickchart {\n",
              "      --bg-color: #E8F0FE;\n",
              "      --fill-color: #1967D2;\n",
              "      --hover-bg-color: #E2EBFA;\n",
              "      --hover-fill-color: #174EA6;\n",
              "      --disabled-fill-color: #AAA;\n",
              "      --disabled-bg-color: #DDD;\n",
              "  }\n",
              "\n",
              "  [theme=dark] .colab-df-quickchart {\n",
              "      --bg-color: #3B4455;\n",
              "      --fill-color: #D2E3FC;\n",
              "      --hover-bg-color: #434B5C;\n",
              "      --hover-fill-color: #FFFFFF;\n",
              "      --disabled-bg-color: #3B4455;\n",
              "      --disabled-fill-color: #666;\n",
              "  }\n",
              "\n",
              "  .colab-df-quickchart {\n",
              "    background-color: var(--bg-color);\n",
              "    border: none;\n",
              "    border-radius: 50%;\n",
              "    cursor: pointer;\n",
              "    display: none;\n",
              "    fill: var(--fill-color);\n",
              "    height: 32px;\n",
              "    padding: 0;\n",
              "    width: 32px;\n",
              "  }\n",
              "\n",
              "  .colab-df-quickchart:hover {\n",
              "    background-color: var(--hover-bg-color);\n",
              "    box-shadow: 0 1px 2px rgba(60, 64, 67, 0.3), 0 1px 3px 1px rgba(60, 64, 67, 0.15);\n",
              "    fill: var(--button-hover-fill-color);\n",
              "  }\n",
              "\n",
              "  .colab-df-quickchart-complete:disabled,\n",
              "  .colab-df-quickchart-complete:disabled:hover {\n",
              "    background-color: var(--disabled-bg-color);\n",
              "    fill: var(--disabled-fill-color);\n",
              "    box-shadow: none;\n",
              "  }\n",
              "\n",
              "  .colab-df-spinner {\n",
              "    border: 2px solid var(--fill-color);\n",
              "    border-color: transparent;\n",
              "    border-bottom-color: var(--fill-color);\n",
              "    animation:\n",
              "      spin 1s steps(1) infinite;\n",
              "  }\n",
              "\n",
              "  @keyframes spin {\n",
              "    0% {\n",
              "      border-color: transparent;\n",
              "      border-bottom-color: var(--fill-color);\n",
              "      border-left-color: var(--fill-color);\n",
              "    }\n",
              "    20% {\n",
              "      border-color: transparent;\n",
              "      border-left-color: var(--fill-color);\n",
              "      border-top-color: var(--fill-color);\n",
              "    }\n",
              "    30% {\n",
              "      border-color: transparent;\n",
              "      border-left-color: var(--fill-color);\n",
              "      border-top-color: var(--fill-color);\n",
              "      border-right-color: var(--fill-color);\n",
              "    }\n",
              "    40% {\n",
              "      border-color: transparent;\n",
              "      border-right-color: var(--fill-color);\n",
              "      border-top-color: var(--fill-color);\n",
              "    }\n",
              "    60% {\n",
              "      border-color: transparent;\n",
              "      border-right-color: var(--fill-color);\n",
              "    }\n",
              "    80% {\n",
              "      border-color: transparent;\n",
              "      border-right-color: var(--fill-color);\n",
              "      border-bottom-color: var(--fill-color);\n",
              "    }\n",
              "    90% {\n",
              "      border-color: transparent;\n",
              "      border-bottom-color: var(--fill-color);\n",
              "    }\n",
              "  }\n",
              "</style>\n",
              "\n",
              "  <script>\n",
              "    async function quickchart(key) {\n",
              "      const quickchartButtonEl =\n",
              "        document.querySelector('#' + key + ' button');\n",
              "      quickchartButtonEl.disabled = true;  // To prevent multiple clicks.\n",
              "      quickchartButtonEl.classList.add('colab-df-spinner');\n",
              "      try {\n",
              "        const charts = await google.colab.kernel.invokeFunction(\n",
              "            'suggestCharts', [key], {});\n",
              "      } catch (error) {\n",
              "        console.error('Error during call to suggestCharts:', error);\n",
              "      }\n",
              "      quickchartButtonEl.classList.remove('colab-df-spinner');\n",
              "      quickchartButtonEl.classList.add('colab-df-quickchart-complete');\n",
              "    }\n",
              "    (() => {\n",
              "      let quickchartButtonEl =\n",
              "        document.querySelector('#df-0652b767-fcdf-4f64-8915-01d9c5504db1 button');\n",
              "      quickchartButtonEl.style.display =\n",
              "        google.colab.kernel.accessAllowed ? 'block' : 'none';\n",
              "    })();\n",
              "  </script>\n",
              "</div>\n",
              "\n",
              "    </div>\n",
              "  </div>\n"
            ],
            "application/vnd.google.colaboratory.intrinsic+json": {
              "type": "dataframe",
              "variable_name": "data"
            }
          },
          "metadata": {},
          "execution_count": 6
        }
      ]
    },
    {
      "cell_type": "code",
      "source": [
        "data.dtypes"
      ],
      "metadata": {
        "id": "pHpr2_1D3qk8",
        "colab": {
          "base_uri": "https://localhost:8080/"
        },
        "outputId": "6a73c9fa-dae8-4b3a-ed52-c30d6125dd8d"
      },
      "id": "pHpr2_1D3qk8",
      "execution_count": null,
      "outputs": [
        {
          "output_type": "execute_result",
          "data": {
            "text/plain": [
              "Edad (años)                                                    int64\n",
              "Genero                                                         int64\n",
              "Zona                                                           int64\n",
              "Fumador Activo                                                 int64\n",
              "¿Diabetes?                                                     int64\n",
              "Hipertensión Arterial Sistemica                                int64\n",
              "HTA + DM                                                       int64\n",
              "Clasificacion de Diabetes o del ultimo estado de Glicemia    float64\n",
              "Complicaciones  y Lesiones en Organo Blanco                    int64\n",
              "Antecedentes_Fliar_Enfermedad_Coronaria                        int64\n",
              "Tension SISTOLICA                                              int64\n",
              "Tension DIASTOLICA                                           float64\n",
              "HTA COMPENSADOS                                                int64\n",
              "Colesterol Total                                               int64\n",
              "Colesterol HDL                                               float64\n",
              "Trigliceridos                                                  int64\n",
              "Colesterol LDL                                               float64\n",
              "HTA Y DM COMPENSADA                                            int64\n",
              "Glicemia de ayuno                                            float64\n",
              "Perimetro Abdominal                                          float64\n",
              "Clasificación perímetro abdominal                            float64\n",
              "Peso                                                           int64\n",
              "Talla                                                          int64\n",
              "IMC                                                            int64\n",
              "CLASIFICACION IMC                                              int64\n",
              "Creatinina                                                   float64\n",
              "Factor de corrección de la formula                             int64\n",
              "Proteinuria                                                  float64\n",
              "Calculo de  TFG corregida (Cockcroft-Gault)                  float64\n",
              "Estadio IRC                                                  float64\n",
              "Remisiones Especialidad                                      float64\n",
              "Farmacos  Antihipertensivos                                  float64\n",
              "Estatina                                                       int64\n",
              "Antidiabeticos                                               float64\n",
              "Adherencia al tratamiento                                    float64\n",
              "dtype: object"
            ]
          },
          "metadata": {},
          "execution_count": 7
        }
      ]
    },
    {
      "cell_type": "markdown",
      "source": [
        "## Conteo de clases\n",
        "\n",
        "El desbalance de clases es notorio. La clase que representa al riesgo cardiovascular intermedio tiene 40% menos muestras que el riesgo cardiovascular alto. Entretanto, la clase que representa al riesgo cardiovascular bajo tiene 60% menos muestras que el riesgo cardiovascular alto."
      ],
      "metadata": {
        "id": "cY7fuulPDmAL"
      },
      "id": "cY7fuulPDmAL"
    },
    {
      "cell_type": "code",
      "source": [
        "import pandas as pd\n",
        "pd.DataFrame(target).value_counts()"
      ],
      "metadata": {
        "id": "Qw3A8P10DqBR",
        "colab": {
          "base_uri": "https://localhost:8080/"
        },
        "outputId": "538c775f-c02a-4340-c2e7-4cff0bcc8e97"
      },
      "id": "Qw3A8P10DqBR",
      "execution_count": null,
      "outputs": [
        {
          "output_type": "execute_result",
          "data": {
            "text/plain": [
              "2    1597\n",
              "1     820\n",
              "0     583\n",
              "Name: count, dtype: int64"
            ]
          },
          "metadata": {},
          "execution_count": 8
        }
      ]
    },
    {
      "cell_type": "markdown",
      "id": "maritime-warren",
      "metadata": {
        "id": "maritime-warren"
      },
      "source": [
        "## Preparar datos para el entrenamiento de la RNA\n",
        "En esta sección se excluyen la etapa de preprocesamiento de los datos, en la cual, se segue una metodología para asegurar la calidad de los datos. Así mismo, se excluye la etapa de análisis exploratorio de datos, en la cual, se eaplican técnicas de estadística descriptiva y, en algunos casos, inferencial. Por lo tanto, para efectos del taller, esta sección se restringue a la partición del conjunto original de datos para obtener los tres subconjguntos vitales en el entrenamiento y evaluación del modelo predictivo."
      ]
    },
    {
      "cell_type": "markdown",
      "id": "waiting-pizza",
      "metadata": {
        "id": "waiting-pizza"
      },
      "source": [
        "### Particionar datos"
      ]
    },
    {
      "cell_type": "code",
      "source": [
        "## Particionar el conjunto de datos para crear datos de entrenamiento, evaluación y validación.\n",
        "sc = StandardScaler()\n",
        "Xsc = sc.fit(data)\n",
        "X = Xsc.transform(data)\n",
        "X.shape\n",
        "\n",
        "X_train, X_test, y_train, y_test = split(X,target,\n",
        "                                         test_size=0.30,\n",
        "                                         random_state=42,\n",
        "                                         stratify=target)\n",
        "X_train, X_valid, y_train, y_valid = split(X_train, y_train,\n",
        "                                           test_size=0.2,\n",
        "                                           stratify=y_train)\n",
        "print(\"El tamaño de los nuevos subconjuntos es: \", X_train.shape, X_test.shape, X_valid.shape)\n",
        "print(\"Y es la variable que tiene las etiquetas de las clases a predecir: \", y_train.shape, y_test.shape, y_valid.shape)"
      ],
      "metadata": {
        "id": "5KnSXVxYVyxr",
        "colab": {
          "base_uri": "https://localhost:8080/"
        },
        "outputId": "173dfbe3-b5b8-413d-cbbf-76d7ef9493a3"
      },
      "id": "5KnSXVxYVyxr",
      "execution_count": null,
      "outputs": [
        {
          "output_type": "stream",
          "name": "stdout",
          "text": [
            "El tamaño de los nuevos subconjuntos es:  (1680, 35) (900, 35) (420, 35)\n",
            "Y es la variable que tiene las etiquetas de las clases a predecir:  (1680,) (900,) (420,)\n"
          ]
        }
      ]
    },
    {
      "cell_type": "markdown",
      "source": [
        "### Transformación de etiquetas de la clase objetivo (Predicción Multiclase)"
      ],
      "metadata": {
        "id": "h6XCkQXzYfYh"
      },
      "id": "h6XCkQXzYfYh"
    },
    {
      "cell_type": "code",
      "execution_count": null,
      "id": "productive-bunny",
      "metadata": {
        "id": "productive-bunny"
      },
      "outputs": [],
      "source": [
        "# #Transformación de las etiquetas requerida para el entrenamiento de RNA\n",
        "Y_train = np_utils.to_categorical(y_train)\n",
        "Y_test = np_utils.to_categorical(y_test)\n",
        "Y_valid = np_utils.to_categorical(y_valid)"
      ]
    },
    {
      "cell_type": "markdown",
      "id": "assured-conversation",
      "metadata": {
        "id": "assured-conversation"
      },
      "source": [
        "## Entrenamiento del modelo predictivo basado en RNA"
      ]
    },
    {
      "cell_type": "code",
      "source": [
        "# Optimización de hiperparámetros\n",
        "#funcion de activacion\n",
        "#loss\n",
        "#metrics\n",
        "#optimizer\n",
        "#learning_rate\n",
        "#epochs\n",
        "#batch_size"
      ],
      "metadata": {
        "id": "rJ5hcFCxa-c_"
      },
      "id": "rJ5hcFCxa-c_",
      "execution_count": null,
      "outputs": []
    },
    {
      "cell_type": "markdown",
      "id": "external-sydney",
      "metadata": {
        "id": "external-sydney"
      },
      "source": [
        "### Diseño de la arquitectura del modelo de red neuronal artificial"
      ]
    },
    {
      "cell_type": "markdown",
      "source": [
        "### Compilar el modelo creado"
      ],
      "metadata": {
        "id": "ychB9Bk6p4xq"
      },
      "id": "ychB9Bk6p4xq"
    },
    {
      "cell_type": "code",
      "execution_count": null,
      "id": "subject-electric",
      "metadata": {
        "id": "subject-electric"
      },
      "outputs": [],
      "source": [
        "# Definir la arquitectura del modelo de la RNA\n",
        "modelRNA = models.Sequential()\n",
        "modelRNA.add(Dense(5, batch_input_shape=(None, 35), activation='relu')) ## neuronas en la capa de entrada (batch_input_shape) (1) y #neuronas en la primera capa oculta (35)\n",
        "#modelRNA.add(Dense(7, activation='relu'))# Función de activación de entreda\n",
        "modelRNA.add(Dense(3, activation='softmax')) # Función de activación lineal de Salidas\n",
        "#GridsearchCV - Nos ayuda a realizar optimización de acuerdo a las variables"
      ]
    },
    {
      "cell_type": "code",
      "source": [
        "# compile the keras (tensorflow) flow graph\n",
        "modelRNA.compile(optimizer=optimizers.RMSprop(learning_rate=0.001),\n",
        "              loss='binary_crossentropy',\n",
        "              metrics=['accuracy'])"
      ],
      "metadata": {
        "id": "fmO_BWTTp8yS"
      },
      "id": "fmO_BWTTp8yS",
      "execution_count": null,
      "outputs": []
    },
    {
      "cell_type": "markdown",
      "source": [
        "### Entrenamiento del modelo de RNA"
      ],
      "metadata": {
        "id": "ZkxGCNZJpyIa"
      },
      "id": "ZkxGCNZJpyIa"
    },
    {
      "cell_type": "code",
      "source": [
        "# Inicializar el reloj para calcular tiempo de cómputo\n",
        "t0 = process_time()"
      ],
      "metadata": {
        "id": "EuZG0sHJr-pz"
      },
      "id": "EuZG0sHJr-pz",
      "execution_count": null,
      "outputs": []
    },
    {
      "cell_type": "code",
      "source": [
        "training_log = modelRNA.fit(X_train,\n",
        "                    Y_train,\n",
        "                    epochs=200,\n",
        "                    batch_size=32,\n",
        "                    validation_data=(X_valid, Y_valid),\n",
        "                    verbose=1)"
      ],
      "metadata": {
        "id": "WEXqIZWeIjmt",
        "colab": {
          "base_uri": "https://localhost:8080/"
        },
        "outputId": "9d03e6d5-a0c4-49eb-8a8e-5a49bfcd79fb"
      },
      "id": "WEXqIZWeIjmt",
      "execution_count": null,
      "outputs": [
        {
          "output_type": "stream",
          "name": "stdout",
          "text": [
            "Epoch 1/200\n",
            "53/53 [==============================] - 1s 6ms/step - loss: 0.7034 - accuracy: 0.4220 - val_loss: 0.6943 - val_accuracy: 0.4357\n",
            "Epoch 2/200\n",
            "53/53 [==============================] - 0s 2ms/step - loss: 0.6658 - accuracy: 0.4685 - val_loss: 0.6664 - val_accuracy: 0.4786\n",
            "Epoch 3/200\n",
            "53/53 [==============================] - 0s 2ms/step - loss: 0.6381 - accuracy: 0.5131 - val_loss: 0.6438 - val_accuracy: 0.5190\n",
            "Epoch 4/200\n",
            "53/53 [==============================] - 0s 2ms/step - loss: 0.6149 - accuracy: 0.5476 - val_loss: 0.6242 - val_accuracy: 0.5429\n",
            "Epoch 5/200\n",
            "53/53 [==============================] - 0s 3ms/step - loss: 0.5943 - accuracy: 0.5619 - val_loss: 0.6057 - val_accuracy: 0.5595\n",
            "Epoch 6/200\n",
            "53/53 [==============================] - 0s 2ms/step - loss: 0.5748 - accuracy: 0.5720 - val_loss: 0.5875 - val_accuracy: 0.5714\n",
            "Epoch 7/200\n",
            "53/53 [==============================] - 0s 2ms/step - loss: 0.5557 - accuracy: 0.5857 - val_loss: 0.5696 - val_accuracy: 0.5786\n",
            "Epoch 8/200\n",
            "53/53 [==============================] - 0s 2ms/step - loss: 0.5367 - accuracy: 0.6024 - val_loss: 0.5514 - val_accuracy: 0.5857\n",
            "Epoch 9/200\n",
            "53/53 [==============================] - 0s 2ms/step - loss: 0.5176 - accuracy: 0.6173 - val_loss: 0.5337 - val_accuracy: 0.5857\n",
            "Epoch 10/200\n",
            "53/53 [==============================] - 0s 3ms/step - loss: 0.4995 - accuracy: 0.6327 - val_loss: 0.5159 - val_accuracy: 0.6048\n",
            "Epoch 11/200\n",
            "53/53 [==============================] - 0s 2ms/step - loss: 0.4819 - accuracy: 0.6452 - val_loss: 0.4988 - val_accuracy: 0.6190\n",
            "Epoch 12/200\n",
            "53/53 [==============================] - 0s 3ms/step - loss: 0.4649 - accuracy: 0.6667 - val_loss: 0.4828 - val_accuracy: 0.6357\n",
            "Epoch 13/200\n",
            "53/53 [==============================] - 0s 2ms/step - loss: 0.4490 - accuracy: 0.6821 - val_loss: 0.4673 - val_accuracy: 0.6476\n",
            "Epoch 14/200\n",
            "53/53 [==============================] - 0s 2ms/step - loss: 0.4344 - accuracy: 0.6946 - val_loss: 0.4525 - val_accuracy: 0.6643\n",
            "Epoch 15/200\n",
            "53/53 [==============================] - 0s 2ms/step - loss: 0.4209 - accuracy: 0.7024 - val_loss: 0.4389 - val_accuracy: 0.6857\n",
            "Epoch 16/200\n",
            "53/53 [==============================] - 0s 2ms/step - loss: 0.4086 - accuracy: 0.7125 - val_loss: 0.4259 - val_accuracy: 0.7024\n",
            "Epoch 17/200\n",
            "53/53 [==============================] - 0s 2ms/step - loss: 0.3973 - accuracy: 0.7268 - val_loss: 0.4143 - val_accuracy: 0.6976\n",
            "Epoch 18/200\n",
            "53/53 [==============================] - 0s 2ms/step - loss: 0.3873 - accuracy: 0.7351 - val_loss: 0.4044 - val_accuracy: 0.7024\n",
            "Epoch 19/200\n",
            "53/53 [==============================] - 0s 2ms/step - loss: 0.3785 - accuracy: 0.7452 - val_loss: 0.3954 - val_accuracy: 0.7048\n",
            "Epoch 20/200\n",
            "53/53 [==============================] - 0s 3ms/step - loss: 0.3709 - accuracy: 0.7476 - val_loss: 0.3872 - val_accuracy: 0.7167\n",
            "Epoch 21/200\n",
            "53/53 [==============================] - 0s 2ms/step - loss: 0.3643 - accuracy: 0.7506 - val_loss: 0.3799 - val_accuracy: 0.7214\n",
            "Epoch 22/200\n",
            "53/53 [==============================] - 0s 2ms/step - loss: 0.3580 - accuracy: 0.7571 - val_loss: 0.3734 - val_accuracy: 0.7286\n",
            "Epoch 23/200\n",
            "53/53 [==============================] - 0s 2ms/step - loss: 0.3525 - accuracy: 0.7607 - val_loss: 0.3683 - val_accuracy: 0.7381\n",
            "Epoch 24/200\n",
            "53/53 [==============================] - 0s 2ms/step - loss: 0.3479 - accuracy: 0.7667 - val_loss: 0.3632 - val_accuracy: 0.7429\n",
            "Epoch 25/200\n",
            "53/53 [==============================] - 0s 2ms/step - loss: 0.3436 - accuracy: 0.7649 - val_loss: 0.3591 - val_accuracy: 0.7429\n",
            "Epoch 26/200\n",
            "53/53 [==============================] - 0s 2ms/step - loss: 0.3399 - accuracy: 0.7655 - val_loss: 0.3557 - val_accuracy: 0.7476\n",
            "Epoch 27/200\n",
            "53/53 [==============================] - 0s 3ms/step - loss: 0.3364 - accuracy: 0.7708 - val_loss: 0.3526 - val_accuracy: 0.7500\n",
            "Epoch 28/200\n",
            "53/53 [==============================] - 0s 4ms/step - loss: 0.3332 - accuracy: 0.7708 - val_loss: 0.3498 - val_accuracy: 0.7548\n",
            "Epoch 29/200\n",
            "53/53 [==============================] - 0s 4ms/step - loss: 0.3303 - accuracy: 0.7774 - val_loss: 0.3470 - val_accuracy: 0.7548\n",
            "Epoch 30/200\n",
            "53/53 [==============================] - 0s 3ms/step - loss: 0.3280 - accuracy: 0.7762 - val_loss: 0.3446 - val_accuracy: 0.7524\n",
            "Epoch 31/200\n",
            "53/53 [==============================] - 0s 3ms/step - loss: 0.3253 - accuracy: 0.7798 - val_loss: 0.3422 - val_accuracy: 0.7548\n",
            "Epoch 32/200\n",
            "53/53 [==============================] - 0s 3ms/step - loss: 0.3232 - accuracy: 0.7798 - val_loss: 0.3409 - val_accuracy: 0.7524\n",
            "Epoch 33/200\n",
            "53/53 [==============================] - 0s 3ms/step - loss: 0.3212 - accuracy: 0.7821 - val_loss: 0.3390 - val_accuracy: 0.7619\n",
            "Epoch 34/200\n",
            "53/53 [==============================] - 0s 3ms/step - loss: 0.3194 - accuracy: 0.7845 - val_loss: 0.3379 - val_accuracy: 0.7643\n",
            "Epoch 35/200\n",
            "53/53 [==============================] - 0s 4ms/step - loss: 0.3175 - accuracy: 0.7869 - val_loss: 0.3367 - val_accuracy: 0.7667\n",
            "Epoch 36/200\n",
            "53/53 [==============================] - 0s 4ms/step - loss: 0.3161 - accuracy: 0.7887 - val_loss: 0.3358 - val_accuracy: 0.7667\n",
            "Epoch 37/200\n",
            "53/53 [==============================] - 0s 4ms/step - loss: 0.3145 - accuracy: 0.7905 - val_loss: 0.3343 - val_accuracy: 0.7714\n",
            "Epoch 38/200\n",
            "53/53 [==============================] - 0s 4ms/step - loss: 0.3131 - accuracy: 0.7929 - val_loss: 0.3334 - val_accuracy: 0.7762\n",
            "Epoch 39/200\n",
            "53/53 [==============================] - 0s 4ms/step - loss: 0.3119 - accuracy: 0.7952 - val_loss: 0.3326 - val_accuracy: 0.7762\n",
            "Epoch 40/200\n",
            "53/53 [==============================] - 0s 4ms/step - loss: 0.3106 - accuracy: 0.7940 - val_loss: 0.3322 - val_accuracy: 0.7738\n",
            "Epoch 41/200\n",
            "53/53 [==============================] - 0s 4ms/step - loss: 0.3095 - accuracy: 0.8006 - val_loss: 0.3311 - val_accuracy: 0.7714\n",
            "Epoch 42/200\n",
            "53/53 [==============================] - 0s 4ms/step - loss: 0.3082 - accuracy: 0.7988 - val_loss: 0.3300 - val_accuracy: 0.7714\n",
            "Epoch 43/200\n",
            "53/53 [==============================] - 0s 4ms/step - loss: 0.3073 - accuracy: 0.8024 - val_loss: 0.3295 - val_accuracy: 0.7738\n",
            "Epoch 44/200\n",
            "53/53 [==============================] - 0s 4ms/step - loss: 0.3061 - accuracy: 0.8000 - val_loss: 0.3287 - val_accuracy: 0.7738\n",
            "Epoch 45/200\n",
            "53/53 [==============================] - 0s 4ms/step - loss: 0.3051 - accuracy: 0.8030 - val_loss: 0.3279 - val_accuracy: 0.7738\n",
            "Epoch 46/200\n",
            "53/53 [==============================] - 0s 4ms/step - loss: 0.3042 - accuracy: 0.8048 - val_loss: 0.3269 - val_accuracy: 0.7762\n",
            "Epoch 47/200\n",
            "53/53 [==============================] - 0s 4ms/step - loss: 0.3033 - accuracy: 0.8042 - val_loss: 0.3262 - val_accuracy: 0.7810\n",
            "Epoch 48/200\n",
            "53/53 [==============================] - 0s 2ms/step - loss: 0.3023 - accuracy: 0.8018 - val_loss: 0.3257 - val_accuracy: 0.7762\n",
            "Epoch 49/200\n",
            "53/53 [==============================] - 0s 2ms/step - loss: 0.3013 - accuracy: 0.8065 - val_loss: 0.3249 - val_accuracy: 0.7833\n",
            "Epoch 50/200\n",
            "53/53 [==============================] - 0s 2ms/step - loss: 0.3004 - accuracy: 0.8030 - val_loss: 0.3239 - val_accuracy: 0.7857\n",
            "Epoch 51/200\n",
            "53/53 [==============================] - 0s 2ms/step - loss: 0.2996 - accuracy: 0.8083 - val_loss: 0.3237 - val_accuracy: 0.7833\n",
            "Epoch 52/200\n",
            "53/53 [==============================] - 0s 2ms/step - loss: 0.2990 - accuracy: 0.8071 - val_loss: 0.3234 - val_accuracy: 0.7881\n",
            "Epoch 53/200\n",
            "53/53 [==============================] - 0s 4ms/step - loss: 0.2980 - accuracy: 0.8101 - val_loss: 0.3227 - val_accuracy: 0.7810\n",
            "Epoch 54/200\n",
            "53/53 [==============================] - 0s 2ms/step - loss: 0.2974 - accuracy: 0.8107 - val_loss: 0.3223 - val_accuracy: 0.7833\n",
            "Epoch 55/200\n",
            "53/53 [==============================] - 0s 2ms/step - loss: 0.2964 - accuracy: 0.8107 - val_loss: 0.3217 - val_accuracy: 0.7833\n",
            "Epoch 56/200\n",
            "53/53 [==============================] - 0s 2ms/step - loss: 0.2957 - accuracy: 0.8107 - val_loss: 0.3211 - val_accuracy: 0.7857\n",
            "Epoch 57/200\n",
            "53/53 [==============================] - 0s 2ms/step - loss: 0.2949 - accuracy: 0.8125 - val_loss: 0.3209 - val_accuracy: 0.7833\n",
            "Epoch 58/200\n",
            "53/53 [==============================] - 0s 2ms/step - loss: 0.2941 - accuracy: 0.8149 - val_loss: 0.3204 - val_accuracy: 0.7857\n",
            "Epoch 59/200\n",
            "53/53 [==============================] - 0s 2ms/step - loss: 0.2934 - accuracy: 0.8143 - val_loss: 0.3197 - val_accuracy: 0.7857\n",
            "Epoch 60/200\n",
            "53/53 [==============================] - 0s 2ms/step - loss: 0.2924 - accuracy: 0.8161 - val_loss: 0.3197 - val_accuracy: 0.7833\n",
            "Epoch 61/200\n",
            "53/53 [==============================] - 0s 3ms/step - loss: 0.2921 - accuracy: 0.8167 - val_loss: 0.3193 - val_accuracy: 0.7857\n",
            "Epoch 62/200\n",
            "53/53 [==============================] - 0s 2ms/step - loss: 0.2912 - accuracy: 0.8208 - val_loss: 0.3186 - val_accuracy: 0.7905\n",
            "Epoch 63/200\n",
            "53/53 [==============================] - 0s 2ms/step - loss: 0.2905 - accuracy: 0.8196 - val_loss: 0.3182 - val_accuracy: 0.7881\n",
            "Epoch 64/200\n",
            "53/53 [==============================] - 0s 2ms/step - loss: 0.2895 - accuracy: 0.8226 - val_loss: 0.3179 - val_accuracy: 0.7881\n",
            "Epoch 65/200\n",
            "53/53 [==============================] - 0s 2ms/step - loss: 0.2890 - accuracy: 0.8238 - val_loss: 0.3174 - val_accuracy: 0.7929\n",
            "Epoch 66/200\n",
            "53/53 [==============================] - 0s 2ms/step - loss: 0.2884 - accuracy: 0.8214 - val_loss: 0.3173 - val_accuracy: 0.7929\n",
            "Epoch 67/200\n",
            "53/53 [==============================] - 0s 2ms/step - loss: 0.2875 - accuracy: 0.8238 - val_loss: 0.3173 - val_accuracy: 0.7905\n",
            "Epoch 68/200\n",
            "53/53 [==============================] - 0s 2ms/step - loss: 0.2869 - accuracy: 0.8232 - val_loss: 0.3168 - val_accuracy: 0.7905\n",
            "Epoch 69/200\n",
            "53/53 [==============================] - 0s 3ms/step - loss: 0.2862 - accuracy: 0.8244 - val_loss: 0.3165 - val_accuracy: 0.7905\n",
            "Epoch 70/200\n",
            "53/53 [==============================] - 0s 2ms/step - loss: 0.2857 - accuracy: 0.8274 - val_loss: 0.3165 - val_accuracy: 0.7905\n",
            "Epoch 71/200\n",
            "53/53 [==============================] - 0s 2ms/step - loss: 0.2848 - accuracy: 0.8244 - val_loss: 0.3164 - val_accuracy: 0.7905\n",
            "Epoch 72/200\n",
            "53/53 [==============================] - 0s 2ms/step - loss: 0.2843 - accuracy: 0.8220 - val_loss: 0.3157 - val_accuracy: 0.7905\n",
            "Epoch 73/200\n",
            "53/53 [==============================] - 0s 2ms/step - loss: 0.2835 - accuracy: 0.8262 - val_loss: 0.3149 - val_accuracy: 0.7929\n",
            "Epoch 74/200\n",
            "53/53 [==============================] - 0s 2ms/step - loss: 0.2830 - accuracy: 0.8238 - val_loss: 0.3144 - val_accuracy: 0.7905\n",
            "Epoch 75/200\n",
            "53/53 [==============================] - 0s 2ms/step - loss: 0.2824 - accuracy: 0.8250 - val_loss: 0.3140 - val_accuracy: 0.7929\n",
            "Epoch 76/200\n",
            "53/53 [==============================] - 0s 2ms/step - loss: 0.2817 - accuracy: 0.8244 - val_loss: 0.3132 - val_accuracy: 0.7976\n",
            "Epoch 77/200\n",
            "53/53 [==============================] - 0s 3ms/step - loss: 0.2811 - accuracy: 0.8256 - val_loss: 0.3132 - val_accuracy: 0.8000\n",
            "Epoch 78/200\n",
            "53/53 [==============================] - 0s 2ms/step - loss: 0.2806 - accuracy: 0.8250 - val_loss: 0.3129 - val_accuracy: 0.8024\n",
            "Epoch 79/200\n",
            "53/53 [==============================] - 0s 2ms/step - loss: 0.2800 - accuracy: 0.8280 - val_loss: 0.3130 - val_accuracy: 0.8000\n",
            "Epoch 80/200\n",
            "53/53 [==============================] - 0s 2ms/step - loss: 0.2795 - accuracy: 0.8286 - val_loss: 0.3130 - val_accuracy: 0.8048\n",
            "Epoch 81/200\n",
            "53/53 [==============================] - 0s 2ms/step - loss: 0.2789 - accuracy: 0.8292 - val_loss: 0.3123 - val_accuracy: 0.8024\n",
            "Epoch 82/200\n",
            "53/53 [==============================] - 0s 2ms/step - loss: 0.2783 - accuracy: 0.8298 - val_loss: 0.3119 - val_accuracy: 0.8048\n",
            "Epoch 83/200\n",
            "53/53 [==============================] - 0s 2ms/step - loss: 0.2775 - accuracy: 0.8304 - val_loss: 0.3116 - val_accuracy: 0.8071\n",
            "Epoch 84/200\n",
            "53/53 [==============================] - 0s 3ms/step - loss: 0.2771 - accuracy: 0.8286 - val_loss: 0.3110 - val_accuracy: 0.8095\n",
            "Epoch 85/200\n",
            "53/53 [==============================] - 0s 2ms/step - loss: 0.2765 - accuracy: 0.8304 - val_loss: 0.3109 - val_accuracy: 0.8143\n",
            "Epoch 86/200\n",
            "53/53 [==============================] - 0s 2ms/step - loss: 0.2761 - accuracy: 0.8351 - val_loss: 0.3110 - val_accuracy: 0.8095\n",
            "Epoch 87/200\n",
            "53/53 [==============================] - 0s 2ms/step - loss: 0.2753 - accuracy: 0.8351 - val_loss: 0.3103 - val_accuracy: 0.8071\n",
            "Epoch 88/200\n",
            "53/53 [==============================] - 0s 2ms/step - loss: 0.2750 - accuracy: 0.8345 - val_loss: 0.3097 - val_accuracy: 0.8095\n",
            "Epoch 89/200\n",
            "53/53 [==============================] - 0s 2ms/step - loss: 0.2744 - accuracy: 0.8369 - val_loss: 0.3098 - val_accuracy: 0.8095\n",
            "Epoch 90/200\n",
            "53/53 [==============================] - 0s 3ms/step - loss: 0.2740 - accuracy: 0.8369 - val_loss: 0.3095 - val_accuracy: 0.8119\n",
            "Epoch 91/200\n",
            "53/53 [==============================] - 0s 2ms/step - loss: 0.2734 - accuracy: 0.8375 - val_loss: 0.3091 - val_accuracy: 0.8143\n",
            "Epoch 92/200\n",
            "53/53 [==============================] - 0s 3ms/step - loss: 0.2728 - accuracy: 0.8363 - val_loss: 0.3088 - val_accuracy: 0.8143\n",
            "Epoch 93/200\n",
            "53/53 [==============================] - 0s 2ms/step - loss: 0.2722 - accuracy: 0.8405 - val_loss: 0.3092 - val_accuracy: 0.8143\n",
            "Epoch 94/200\n",
            "53/53 [==============================] - 0s 2ms/step - loss: 0.2716 - accuracy: 0.8381 - val_loss: 0.3087 - val_accuracy: 0.8143\n",
            "Epoch 95/200\n",
            "53/53 [==============================] - 0s 2ms/step - loss: 0.2711 - accuracy: 0.8369 - val_loss: 0.3086 - val_accuracy: 0.8119\n",
            "Epoch 96/200\n",
            "53/53 [==============================] - 0s 2ms/step - loss: 0.2707 - accuracy: 0.8369 - val_loss: 0.3086 - val_accuracy: 0.8143\n",
            "Epoch 97/200\n",
            "53/53 [==============================] - 0s 2ms/step - loss: 0.2701 - accuracy: 0.8363 - val_loss: 0.3082 - val_accuracy: 0.8095\n",
            "Epoch 98/200\n",
            "53/53 [==============================] - 0s 2ms/step - loss: 0.2697 - accuracy: 0.8381 - val_loss: 0.3081 - val_accuracy: 0.8095\n",
            "Epoch 99/200\n",
            "53/53 [==============================] - 0s 3ms/step - loss: 0.2691 - accuracy: 0.8405 - val_loss: 0.3081 - val_accuracy: 0.8071\n",
            "Epoch 100/200\n",
            "53/53 [==============================] - 0s 2ms/step - loss: 0.2685 - accuracy: 0.8411 - val_loss: 0.3075 - val_accuracy: 0.8071\n",
            "Epoch 101/200\n",
            "53/53 [==============================] - 0s 2ms/step - loss: 0.2681 - accuracy: 0.8405 - val_loss: 0.3069 - val_accuracy: 0.8119\n",
            "Epoch 102/200\n",
            "53/53 [==============================] - 0s 2ms/step - loss: 0.2677 - accuracy: 0.8417 - val_loss: 0.3070 - val_accuracy: 0.8048\n",
            "Epoch 103/200\n",
            "53/53 [==============================] - 0s 2ms/step - loss: 0.2671 - accuracy: 0.8417 - val_loss: 0.3064 - val_accuracy: 0.8071\n",
            "Epoch 104/200\n",
            "53/53 [==============================] - 0s 2ms/step - loss: 0.2665 - accuracy: 0.8429 - val_loss: 0.3066 - val_accuracy: 0.8071\n",
            "Epoch 105/200\n",
            "53/53 [==============================] - 0s 2ms/step - loss: 0.2660 - accuracy: 0.8429 - val_loss: 0.3060 - val_accuracy: 0.8071\n",
            "Epoch 106/200\n",
            "53/53 [==============================] - 0s 2ms/step - loss: 0.2656 - accuracy: 0.8411 - val_loss: 0.3061 - val_accuracy: 0.8071\n",
            "Epoch 107/200\n",
            "53/53 [==============================] - 0s 4ms/step - loss: 0.2650 - accuracy: 0.8429 - val_loss: 0.3055 - val_accuracy: 0.8119\n",
            "Epoch 108/200\n",
            "53/53 [==============================] - 0s 2ms/step - loss: 0.2646 - accuracy: 0.8440 - val_loss: 0.3054 - val_accuracy: 0.8119\n",
            "Epoch 109/200\n",
            "53/53 [==============================] - 0s 2ms/step - loss: 0.2640 - accuracy: 0.8446 - val_loss: 0.3052 - val_accuracy: 0.8167\n",
            "Epoch 110/200\n",
            "53/53 [==============================] - 0s 2ms/step - loss: 0.2637 - accuracy: 0.8446 - val_loss: 0.3050 - val_accuracy: 0.8167\n",
            "Epoch 111/200\n",
            "53/53 [==============================] - 0s 2ms/step - loss: 0.2629 - accuracy: 0.8435 - val_loss: 0.3053 - val_accuracy: 0.8119\n",
            "Epoch 112/200\n",
            "53/53 [==============================] - 0s 2ms/step - loss: 0.2628 - accuracy: 0.8446 - val_loss: 0.3047 - val_accuracy: 0.8095\n",
            "Epoch 113/200\n",
            "53/53 [==============================] - 0s 2ms/step - loss: 0.2623 - accuracy: 0.8482 - val_loss: 0.3044 - val_accuracy: 0.8143\n",
            "Epoch 114/200\n",
            "53/53 [==============================] - 0s 3ms/step - loss: 0.2617 - accuracy: 0.8476 - val_loss: 0.3040 - val_accuracy: 0.8214\n",
            "Epoch 115/200\n",
            "53/53 [==============================] - 0s 2ms/step - loss: 0.2614 - accuracy: 0.8446 - val_loss: 0.3044 - val_accuracy: 0.8190\n",
            "Epoch 116/200\n",
            "53/53 [==============================] - 0s 2ms/step - loss: 0.2609 - accuracy: 0.8488 - val_loss: 0.3046 - val_accuracy: 0.8190\n",
            "Epoch 117/200\n",
            "53/53 [==============================] - 0s 2ms/step - loss: 0.2606 - accuracy: 0.8452 - val_loss: 0.3047 - val_accuracy: 0.8167\n",
            "Epoch 118/200\n",
            "53/53 [==============================] - 0s 2ms/step - loss: 0.2602 - accuracy: 0.8458 - val_loss: 0.3042 - val_accuracy: 0.8167\n",
            "Epoch 119/200\n",
            "53/53 [==============================] - 0s 2ms/step - loss: 0.2601 - accuracy: 0.8506 - val_loss: 0.3037 - val_accuracy: 0.8143\n",
            "Epoch 120/200\n",
            "53/53 [==============================] - 0s 2ms/step - loss: 0.2595 - accuracy: 0.8470 - val_loss: 0.3037 - val_accuracy: 0.8167\n",
            "Epoch 121/200\n",
            "53/53 [==============================] - 0s 3ms/step - loss: 0.2592 - accuracy: 0.8452 - val_loss: 0.3035 - val_accuracy: 0.8143\n",
            "Epoch 122/200\n",
            "53/53 [==============================] - 0s 3ms/step - loss: 0.2586 - accuracy: 0.8494 - val_loss: 0.3031 - val_accuracy: 0.8143\n",
            "Epoch 123/200\n",
            "53/53 [==============================] - 0s 4ms/step - loss: 0.2583 - accuracy: 0.8482 - val_loss: 0.3028 - val_accuracy: 0.8167\n",
            "Epoch 124/200\n",
            "53/53 [==============================] - 0s 3ms/step - loss: 0.2577 - accuracy: 0.8458 - val_loss: 0.3033 - val_accuracy: 0.8167\n",
            "Epoch 125/200\n",
            "53/53 [==============================] - 0s 3ms/step - loss: 0.2575 - accuracy: 0.8476 - val_loss: 0.3030 - val_accuracy: 0.8143\n",
            "Epoch 126/200\n",
            "53/53 [==============================] - 0s 4ms/step - loss: 0.2569 - accuracy: 0.8476 - val_loss: 0.3030 - val_accuracy: 0.8095\n",
            "Epoch 127/200\n",
            "53/53 [==============================] - 0s 4ms/step - loss: 0.2568 - accuracy: 0.8476 - val_loss: 0.3030 - val_accuracy: 0.8095\n",
            "Epoch 128/200\n",
            "53/53 [==============================] - 0s 4ms/step - loss: 0.2561 - accuracy: 0.8488 - val_loss: 0.3032 - val_accuracy: 0.8119\n",
            "Epoch 129/200\n",
            "53/53 [==============================] - 0s 3ms/step - loss: 0.2559 - accuracy: 0.8482 - val_loss: 0.3029 - val_accuracy: 0.8119\n",
            "Epoch 130/200\n",
            "53/53 [==============================] - 0s 4ms/step - loss: 0.2554 - accuracy: 0.8482 - val_loss: 0.3031 - val_accuracy: 0.8119\n",
            "Epoch 131/200\n",
            "53/53 [==============================] - 0s 4ms/step - loss: 0.2551 - accuracy: 0.8464 - val_loss: 0.3028 - val_accuracy: 0.8167\n",
            "Epoch 132/200\n",
            "53/53 [==============================] - 0s 4ms/step - loss: 0.2548 - accuracy: 0.8458 - val_loss: 0.3030 - val_accuracy: 0.8119\n",
            "Epoch 133/200\n",
            "53/53 [==============================] - 0s 4ms/step - loss: 0.2543 - accuracy: 0.8470 - val_loss: 0.3029 - val_accuracy: 0.8167\n",
            "Epoch 134/200\n",
            "53/53 [==============================] - 0s 4ms/step - loss: 0.2541 - accuracy: 0.8482 - val_loss: 0.3030 - val_accuracy: 0.8190\n",
            "Epoch 135/200\n",
            "53/53 [==============================] - 0s 4ms/step - loss: 0.2536 - accuracy: 0.8494 - val_loss: 0.3029 - val_accuracy: 0.8143\n",
            "Epoch 136/200\n",
            "53/53 [==============================] - 0s 4ms/step - loss: 0.2533 - accuracy: 0.8476 - val_loss: 0.3024 - val_accuracy: 0.8095\n",
            "Epoch 137/200\n",
            "53/53 [==============================] - 0s 4ms/step - loss: 0.2531 - accuracy: 0.8530 - val_loss: 0.3024 - val_accuracy: 0.8071\n",
            "Epoch 138/200\n",
            "53/53 [==============================] - 0s 4ms/step - loss: 0.2527 - accuracy: 0.8506 - val_loss: 0.3022 - val_accuracy: 0.8071\n",
            "Epoch 139/200\n",
            "53/53 [==============================] - 0s 4ms/step - loss: 0.2524 - accuracy: 0.8518 - val_loss: 0.3023 - val_accuracy: 0.8095\n",
            "Epoch 140/200\n",
            "53/53 [==============================] - 0s 3ms/step - loss: 0.2521 - accuracy: 0.8524 - val_loss: 0.3022 - val_accuracy: 0.8143\n",
            "Epoch 141/200\n",
            "53/53 [==============================] - 0s 5ms/step - loss: 0.2518 - accuracy: 0.8524 - val_loss: 0.3021 - val_accuracy: 0.8095\n",
            "Epoch 142/200\n",
            "53/53 [==============================] - 0s 3ms/step - loss: 0.2515 - accuracy: 0.8536 - val_loss: 0.3020 - val_accuracy: 0.8143\n",
            "Epoch 143/200\n",
            "53/53 [==============================] - 0s 2ms/step - loss: 0.2513 - accuracy: 0.8506 - val_loss: 0.3016 - val_accuracy: 0.8167\n",
            "Epoch 144/200\n",
            "53/53 [==============================] - 0s 2ms/step - loss: 0.2510 - accuracy: 0.8554 - val_loss: 0.3012 - val_accuracy: 0.8190\n",
            "Epoch 145/200\n",
            "53/53 [==============================] - 0s 2ms/step - loss: 0.2507 - accuracy: 0.8536 - val_loss: 0.3010 - val_accuracy: 0.8167\n",
            "Epoch 146/200\n",
            "53/53 [==============================] - 0s 2ms/step - loss: 0.2502 - accuracy: 0.8548 - val_loss: 0.3008 - val_accuracy: 0.8119\n",
            "Epoch 147/200\n",
            "53/53 [==============================] - 0s 3ms/step - loss: 0.2500 - accuracy: 0.8548 - val_loss: 0.3010 - val_accuracy: 0.8143\n",
            "Epoch 148/200\n",
            "53/53 [==============================] - 0s 3ms/step - loss: 0.2499 - accuracy: 0.8536 - val_loss: 0.3008 - val_accuracy: 0.8143\n",
            "Epoch 149/200\n",
            "53/53 [==============================] - 0s 2ms/step - loss: 0.2495 - accuracy: 0.8571 - val_loss: 0.3007 - val_accuracy: 0.8167\n",
            "Epoch 150/200\n",
            "53/53 [==============================] - 0s 2ms/step - loss: 0.2492 - accuracy: 0.8554 - val_loss: 0.3011 - val_accuracy: 0.8190\n",
            "Epoch 151/200\n",
            "53/53 [==============================] - 0s 2ms/step - loss: 0.2489 - accuracy: 0.8554 - val_loss: 0.3006 - val_accuracy: 0.8167\n",
            "Epoch 152/200\n",
            "53/53 [==============================] - 0s 2ms/step - loss: 0.2487 - accuracy: 0.8560 - val_loss: 0.3008 - val_accuracy: 0.8143\n",
            "Epoch 153/200\n",
            "53/53 [==============================] - 0s 2ms/step - loss: 0.2482 - accuracy: 0.8554 - val_loss: 0.3008 - val_accuracy: 0.8190\n",
            "Epoch 154/200\n",
            "53/53 [==============================] - 0s 3ms/step - loss: 0.2481 - accuracy: 0.8536 - val_loss: 0.3005 - val_accuracy: 0.8190\n",
            "Epoch 155/200\n",
            "53/53 [==============================] - 0s 2ms/step - loss: 0.2478 - accuracy: 0.8548 - val_loss: 0.3005 - val_accuracy: 0.8214\n",
            "Epoch 156/200\n",
            "53/53 [==============================] - 0s 2ms/step - loss: 0.2474 - accuracy: 0.8542 - val_loss: 0.3009 - val_accuracy: 0.8214\n",
            "Epoch 157/200\n",
            "53/53 [==============================] - 0s 2ms/step - loss: 0.2472 - accuracy: 0.8577 - val_loss: 0.3006 - val_accuracy: 0.8167\n",
            "Epoch 158/200\n",
            "53/53 [==============================] - 0s 2ms/step - loss: 0.2469 - accuracy: 0.8548 - val_loss: 0.3000 - val_accuracy: 0.8190\n",
            "Epoch 159/200\n",
            "53/53 [==============================] - 0s 2ms/step - loss: 0.2470 - accuracy: 0.8577 - val_loss: 0.3001 - val_accuracy: 0.8190\n",
            "Epoch 160/200\n",
            "53/53 [==============================] - 0s 2ms/step - loss: 0.2466 - accuracy: 0.8542 - val_loss: 0.3012 - val_accuracy: 0.8214\n",
            "Epoch 161/200\n",
            "53/53 [==============================] - 0s 2ms/step - loss: 0.2465 - accuracy: 0.8577 - val_loss: 0.3007 - val_accuracy: 0.8238\n",
            "Epoch 162/200\n",
            "53/53 [==============================] - 0s 3ms/step - loss: 0.2462 - accuracy: 0.8571 - val_loss: 0.3005 - val_accuracy: 0.8238\n",
            "Epoch 163/200\n",
            "53/53 [==============================] - 0s 2ms/step - loss: 0.2459 - accuracy: 0.8577 - val_loss: 0.3005 - val_accuracy: 0.8214\n",
            "Epoch 164/200\n",
            "53/53 [==============================] - 0s 2ms/step - loss: 0.2457 - accuracy: 0.8565 - val_loss: 0.3000 - val_accuracy: 0.8262\n",
            "Epoch 165/200\n",
            "53/53 [==============================] - 0s 2ms/step - loss: 0.2455 - accuracy: 0.8560 - val_loss: 0.3001 - val_accuracy: 0.8238\n",
            "Epoch 166/200\n",
            "53/53 [==============================] - 0s 2ms/step - loss: 0.2454 - accuracy: 0.8601 - val_loss: 0.2996 - val_accuracy: 0.8262\n",
            "Epoch 167/200\n",
            "53/53 [==============================] - 0s 2ms/step - loss: 0.2450 - accuracy: 0.8560 - val_loss: 0.2998 - val_accuracy: 0.8262\n",
            "Epoch 168/200\n",
            "53/53 [==============================] - 0s 2ms/step - loss: 0.2449 - accuracy: 0.8607 - val_loss: 0.3000 - val_accuracy: 0.8262\n",
            "Epoch 169/200\n",
            "53/53 [==============================] - 0s 4ms/step - loss: 0.2447 - accuracy: 0.8595 - val_loss: 0.3002 - val_accuracy: 0.8238\n",
            "Epoch 170/200\n",
            "53/53 [==============================] - 0s 2ms/step - loss: 0.2446 - accuracy: 0.8565 - val_loss: 0.3001 - val_accuracy: 0.8262\n",
            "Epoch 171/200\n",
            "53/53 [==============================] - 0s 2ms/step - loss: 0.2443 - accuracy: 0.8565 - val_loss: 0.3001 - val_accuracy: 0.8286\n",
            "Epoch 172/200\n",
            "53/53 [==============================] - 0s 2ms/step - loss: 0.2443 - accuracy: 0.8607 - val_loss: 0.2999 - val_accuracy: 0.8310\n",
            "Epoch 173/200\n",
            "53/53 [==============================] - 0s 2ms/step - loss: 0.2440 - accuracy: 0.8577 - val_loss: 0.2998 - val_accuracy: 0.8262\n",
            "Epoch 174/200\n",
            "53/53 [==============================] - 0s 2ms/step - loss: 0.2436 - accuracy: 0.8601 - val_loss: 0.2999 - val_accuracy: 0.8262\n",
            "Epoch 175/200\n",
            "53/53 [==============================] - 0s 2ms/step - loss: 0.2435 - accuracy: 0.8595 - val_loss: 0.3008 - val_accuracy: 0.8214\n",
            "Epoch 176/200\n",
            "53/53 [==============================] - 0s 3ms/step - loss: 0.2433 - accuracy: 0.8589 - val_loss: 0.3013 - val_accuracy: 0.8238\n",
            "Epoch 177/200\n",
            "53/53 [==============================] - 0s 2ms/step - loss: 0.2434 - accuracy: 0.8583 - val_loss: 0.3010 - val_accuracy: 0.8238\n",
            "Epoch 178/200\n",
            "53/53 [==============================] - 0s 2ms/step - loss: 0.2430 - accuracy: 0.8607 - val_loss: 0.3006 - val_accuracy: 0.8238\n",
            "Epoch 179/200\n",
            "53/53 [==============================] - 0s 2ms/step - loss: 0.2429 - accuracy: 0.8583 - val_loss: 0.3003 - val_accuracy: 0.8262\n",
            "Epoch 180/200\n",
            "53/53 [==============================] - 0s 2ms/step - loss: 0.2427 - accuracy: 0.8619 - val_loss: 0.3001 - val_accuracy: 0.8214\n",
            "Epoch 181/200\n",
            "53/53 [==============================] - 0s 2ms/step - loss: 0.2426 - accuracy: 0.8589 - val_loss: 0.3002 - val_accuracy: 0.8214\n",
            "Epoch 182/200\n",
            "53/53 [==============================] - 0s 2ms/step - loss: 0.2423 - accuracy: 0.8601 - val_loss: 0.3000 - val_accuracy: 0.8167\n",
            "Epoch 183/200\n",
            "53/53 [==============================] - 0s 2ms/step - loss: 0.2422 - accuracy: 0.8619 - val_loss: 0.3007 - val_accuracy: 0.8190\n",
            "Epoch 184/200\n",
            "53/53 [==============================] - 0s 3ms/step - loss: 0.2419 - accuracy: 0.8613 - val_loss: 0.3009 - val_accuracy: 0.8238\n",
            "Epoch 185/200\n",
            "53/53 [==============================] - 0s 2ms/step - loss: 0.2418 - accuracy: 0.8595 - val_loss: 0.3008 - val_accuracy: 0.8214\n",
            "Epoch 186/200\n",
            "53/53 [==============================] - 0s 2ms/step - loss: 0.2414 - accuracy: 0.8631 - val_loss: 0.3007 - val_accuracy: 0.8214\n",
            "Epoch 187/200\n",
            "53/53 [==============================] - 0s 2ms/step - loss: 0.2415 - accuracy: 0.8595 - val_loss: 0.3008 - val_accuracy: 0.8238\n",
            "Epoch 188/200\n",
            "53/53 [==============================] - 0s 2ms/step - loss: 0.2411 - accuracy: 0.8595 - val_loss: 0.3016 - val_accuracy: 0.8238\n",
            "Epoch 189/200\n",
            "53/53 [==============================] - 0s 2ms/step - loss: 0.2410 - accuracy: 0.8583 - val_loss: 0.3013 - val_accuracy: 0.8238\n",
            "Epoch 190/200\n",
            "53/53 [==============================] - 0s 2ms/step - loss: 0.2411 - accuracy: 0.8637 - val_loss: 0.3013 - val_accuracy: 0.8214\n",
            "Epoch 191/200\n",
            "53/53 [==============================] - 0s 3ms/step - loss: 0.2407 - accuracy: 0.8601 - val_loss: 0.3015 - val_accuracy: 0.8214\n",
            "Epoch 192/200\n",
            "53/53 [==============================] - 0s 3ms/step - loss: 0.2408 - accuracy: 0.8595 - val_loss: 0.3014 - val_accuracy: 0.8238\n",
            "Epoch 193/200\n",
            "53/53 [==============================] - 0s 2ms/step - loss: 0.2406 - accuracy: 0.8601 - val_loss: 0.3017 - val_accuracy: 0.8262\n",
            "Epoch 194/200\n",
            "53/53 [==============================] - 0s 2ms/step - loss: 0.2402 - accuracy: 0.8619 - val_loss: 0.3020 - val_accuracy: 0.8238\n",
            "Epoch 195/200\n",
            "53/53 [==============================] - 0s 2ms/step - loss: 0.2402 - accuracy: 0.8613 - val_loss: 0.3022 - val_accuracy: 0.8214\n",
            "Epoch 196/200\n",
            "53/53 [==============================] - 0s 2ms/step - loss: 0.2400 - accuracy: 0.8613 - val_loss: 0.3022 - val_accuracy: 0.8262\n",
            "Epoch 197/200\n",
            "53/53 [==============================] - 0s 2ms/step - loss: 0.2399 - accuracy: 0.8589 - val_loss: 0.3026 - val_accuracy: 0.8238\n",
            "Epoch 198/200\n",
            "53/53 [==============================] - 0s 3ms/step - loss: 0.2395 - accuracy: 0.8583 - val_loss: 0.3021 - val_accuracy: 0.8238\n",
            "Epoch 199/200\n",
            "53/53 [==============================] - 0s 3ms/step - loss: 0.2398 - accuracy: 0.8583 - val_loss: 0.3019 - val_accuracy: 0.8238\n",
            "Epoch 200/200\n",
            "53/53 [==============================] - 0s 2ms/step - loss: 0.2394 - accuracy: 0.8565 - val_loss: 0.3016 - val_accuracy: 0.8238\n"
          ]
        }
      ]
    },
    {
      "cell_type": "code",
      "source": [
        "# # Tiempo de computo\n",
        "t1 = process_time()\n",
        "tc = t1-t0\n",
        "\n",
        "# # Mostrar tiempo de cómputo del entrenamiento del modelo de RNA\n",
        "print('El tiempo de cómputo con RNA fue: %.2f segundos' % tc)"
      ],
      "metadata": {
        "id": "ns4XH0KkryiK",
        "colab": {
          "base_uri": "https://localhost:8080/"
        },
        "outputId": "7625fc24-d05f-4d2b-b11c-defe1e749424"
      },
      "id": "ns4XH0KkryiK",
      "execution_count": null,
      "outputs": [
        {
          "output_type": "stream",
          "name": "stdout",
          "text": [
            "El tiempo de cómputo con RNA fue: 31.82 segundos\n"
          ]
        }
      ]
    },
    {
      "cell_type": "markdown",
      "source": [
        "### Predicción"
      ],
      "metadata": {
        "id": "kt-1kPj1t2y_"
      },
      "id": "kt-1kPj1t2y_"
    },
    {
      "cell_type": "code",
      "source": [
        "X_pred = modelRNA.predict(X_test, batch_size = 32, verbose=1)\n",
        "y_pred = np.argmax(X_pred, axis=1)\n",
        "print(y_pred.shape)"
      ],
      "metadata": {
        "id": "s2V_K7x8t4LQ",
        "colab": {
          "base_uri": "https://localhost:8080/"
        },
        "outputId": "8e2fad5f-069c-440a-9568-d2a3c5b58197"
      },
      "id": "s2V_K7x8t4LQ",
      "execution_count": null,
      "outputs": [
        {
          "output_type": "stream",
          "name": "stdout",
          "text": [
            "29/29 [==============================] - 0s 1ms/step\n",
            "(900,)\n"
          ]
        }
      ]
    },
    {
      "cell_type": "markdown",
      "source": [
        "## Evaluación del modelo entrenado"
      ],
      "metadata": {
        "id": "0Z0yUZ0dqgIz"
      },
      "id": "0Z0yUZ0dqgIz"
    },
    {
      "cell_type": "markdown",
      "source": [
        "### Gráficas de pérdida de entrenamiento y validación"
      ],
      "metadata": {
        "id": "NFH5y6qOqio9"
      },
      "id": "NFH5y6qOqio9"
    },
    {
      "cell_type": "code",
      "execution_count": null,
      "id": "internal-hudson",
      "metadata": {
        "id": "internal-hudson",
        "colab": {
          "base_uri": "https://localhost:8080/",
          "height": 412
        },
        "outputId": "06ec8102-8cc0-41be-da7d-a56af1617f9b"
      },
      "outputs": [
        {
          "output_type": "display_data",
          "data": {
            "text/plain": [
              "<Figure size 1600x500 with 2 Axes>"
            ],
            "image/png": "[encoded data removed]"
          },
          "metadata": {}
        }
      ],
      "source": [
        "# Gráficas de pérdidas en entrenamiento y validación\n",
        "loss = training_log.history['loss']\n",
        "val_loss = training_log.history['val_loss']\n",
        "epochs = range(1, len(val_loss) + 1)\n",
        "\n",
        "# Gráfica comparativa: pérdida en entrenamiento\n",
        "plt.figure(figsize=(16, 5))\n",
        "plt.subplot(1, 2, 1)\n",
        "plt.plot(epochs, loss, 'g*--', label=\"Perceptrón 5 capas\")\n",
        "plt.title('Pérdida en el entrenamiento arquitectura ARN')\n",
        "plt.xlabel('Épocas')\n",
        "plt.ylabel('Pérdida')\n",
        "plt.legend(loc=\"upper center\", fontsize=\"small\")\n",
        "plt.legend()\n",
        "plt.grid(True)\n",
        "\n",
        "# Gráfica comparativa: pérdida en validación\n",
        "plt.subplot(1, 2, 2)\n",
        "plt.plot(epochs, val_loss, 'b*--', label=\"Perceptrón 5 capas\")\n",
        "plt.title('Pérdida en la validación arquitectura ARN')\n",
        "plt.xlabel('Épocas')\n",
        "plt.ylabel('Pérdida')\n",
        "plt.legend(loc=\"upper center\", fontsize=\"small\")\n",
        "plt.legend()\n",
        "plt.grid(True)\n",
        "plt.show()"
      ]
    },
    {
      "cell_type": "markdown",
      "source": [
        "### Visualizar reporte del entrenamiento de la RNA"
      ],
      "metadata": {
        "id": "o_wQRzRnq3K8"
      },
      "id": "o_wQRzRnq3K8"
    },
    {
      "cell_type": "code",
      "execution_count": null,
      "id": "reliable-resort",
      "metadata": {
        "id": "reliable-resort",
        "colab": {
          "base_uri": "https://localhost:8080/"
        },
        "outputId": "5ed562cd-839c-4337-ee0b-ca2953e67e9f"
      },
      "outputs": [
        {
          "output_type": "stream",
          "name": "stdout",
          "text": [
            "\n",
            "               precision    recall  f1-score   support\n",
            "\n",
            "           0      0.816     0.737     0.775       175\n",
            "           1      0.661     0.683     0.672       246\n",
            "           2      0.877     0.894     0.885       479\n",
            "\n",
            "    accuracy                          0.806       900\n",
            "   macro avg      0.785     0.771     0.777       900\n",
            "weighted avg      0.806     0.806     0.805       900\n",
            "\n"
          ]
        }
      ],
      "source": [
        "# Métricas de desempeño\n",
        "# Mostrar la precisión, recall, F1-score\n",
        "print(\"\\n\", classification_report(y_test, y_pred, digits=3))"
      ]
    },
    {
      "cell_type": "markdown",
      "source": [
        "### Visualizar matriz de confusión"
      ],
      "metadata": {
        "id": "7MPa73-zrCAr"
      },
      "id": "7MPa73-zrCAr"
    },
    {
      "cell_type": "code",
      "execution_count": null,
      "id": "opened-quantity",
      "metadata": {
        "id": "opened-quantity",
        "colab": {
          "base_uri": "https://localhost:8080/",
          "height": 526
        },
        "outputId": "251a14ae-d9fc-4fed-f3d7-aef11bb6a1bf"
      },
      "outputs": [
        {
          "output_type": "display_data",
          "data": {
            "text/plain": [
              "<Figure size 640x480 with 1 Axes>"
            ],
            "image/png": "[encoded data removed]"
          },
          "metadata": {}
        }
      ],
      "source": [
        "# Matriz de confusión\n",
        "# cm = metrics.confusion_matrix(Y_test.argmax(axis=1),\n",
        "#                               Y_pred.argmax(axis=1))\n",
        "cm = confusion_matrix(y_test, y_pred)\n",
        "plt.imshow(cm, interpolation='nearest', cmap=plt.cm.Wistia)\n",
        "classNames = ['RCV bajo','RCV latente', 'RCV alto']\n",
        "plt.title('Matriz de confusión modelo predictivo RCV')\n",
        "plt.ylabel('True label')\n",
        "plt.xlabel('Predicted label')\n",
        "tick_marks = np.arange(len(classNames))\n",
        "plt.xticks(tick_marks, classNames, rotation=45)\n",
        "plt.yticks(tick_marks, classNames)\n",
        "for i in range(3):\n",
        "    for j in range(3):\n",
        "        plt.text(j,i, str(cm[i][j]))"
      ]
    },
    {
      "cell_type": "markdown",
      "source": [
        "### Curva ROC\n"
      ],
      "metadata": {
        "id": "fI_T7Ud8Myl6"
      },
      "id": "fI_T7Ud8Myl6"
    },
    {
      "cell_type": "code",
      "source": [
        "# Curva ROC\n",
        "# #https://stackabuse.com/understanding-roc-curves-with-python/\n",
        "Y_pred = np_utils.to_categorical(y_pred)\n",
        "auc = roc_auc_score(Y_test, Y_pred)\n",
        "fpr, tpr, threshold = roc_curve(Y_test[:,0], Y_pred[:,0])\n",
        "font = {'family': 'serif',\n",
        "    'color':  'darkred',\n",
        "    'weight': 'normal',\n",
        "    'size': 16,\n",
        "    }\n",
        "plt.plot(fpr, tpr, color='green', label='ROC RCV bajo')\n",
        "plt.plot([0, 1], [0, 1], color='black', linestyle='--')\n",
        "plt.xlabel('Tasa de Falsos Positivos')\n",
        "plt.ylabel('Tasa de Verdaderos Postivos')\n",
        "plt.title('Curva ROC RNA')\n",
        "fpr, tpr, threshold = roc_curve(Y_test[:,1], Y_pred[:,1])\n",
        "plt.plot(fpr, tpr, color='darkblue', label='ROC RCV latente')\n",
        "fpr, tpr, threshold = roc_curve(Y_test[:,2], Y_pred[:,2])\n",
        "plt.plot(fpr, tpr, color='orange', label='ROC RCV alto')\n",
        "plt.text(0.7, 0.55, 'AUC: %.2f' % auc, fontdict=font)\n",
        "plt.legend()\n",
        "plt.show()"
      ],
      "metadata": {
        "id": "HysJdDp7M01I",
        "colab": {
          "base_uri": "https://localhost:8080/",
          "height": 472
        },
        "outputId": "28cd0f54-d126-49cc-ac4c-f289c3726e4a"
      },
      "id": "HysJdDp7M01I",
      "execution_count": null,
      "outputs": [
        {
          "output_type": "display_data",
          "data": {
            "text/plain": [
              "<Figure size 640x480 with 1 Axes>"
            ],
            "image/png": "[encoded data removed]"
          },
          "metadata": {}
        }
      ]
    },
    {
      "cell_type": "code",
      "execution_count": null,
      "id": "substantial-killer",
      "metadata": {
        "id": "substantial-killer"
      },
      "outputs": [],
      "source": [
        "#Guardar modelo\n",
        "# import pickle\n",
        "# pickle.dump(modelRNA, open('RNA_RCV_01.pkl', 'wb'))\n",
        "\n",
        "# #Cargar modelo almacenado\n",
        "# model = pickle.load(open('RNA_RCV_01.pkl', 'rb'))\n",
        "# result_val = model.score(X_valid, y_valid)\n",
        "# result_test = model.score(X_test, y_test)\n",
        "# print(result_val)\n",
        "# print(result_test)"
      ]
    },
    {
      "cell_type": "markdown",
      "source": [
        "###Experimentos\n",
        "\n",
        "Se realizan los siguientes experimentos sobre las entradas de las redes neuronales artificiales estudiadas por consiguiente se presentan los resultados encontrados:\n",
        "\n",
        "\n",
        "* Primera prueba:\n",
        "\n",
        "\n",
        "![Anexo1](https://lh3.googleusercontent.com/u/1/drive-viewer/AKGpihbqXUlIKNfbDJuPisxQKNP4e5IdSleFOwPUeG0YoIG9YOEuB7vu-2XpX_s42C9OBPAhT90UPKN1oxweouYlj7OqBjNN3S4zWtU=w1366-h633-rw-v1)\n",
        "\n",
        "![Anexo2](https://lh3.googleusercontent.com/u/1/drive-viewer/AKGpihaCXjTxDgg3GgxX5vZp3ynhdpnkV_8DqPwj-S0Hht7tg7lqClYu3zjNdwIxAZModTimmIuC4DMjTltKbvcFKRks1fJUj17fX8Q=w1366-h633)\n",
        "\n",
        "---\n",
        "\n",
        "* Segunda prueba:\n",
        "\n",
        "![Anexo3](https://lh3.googleusercontent.com/u/1/drive-viewer/AKGpihYSwEo5l-edn3VMXOvB0kNxVhnruDEqfH79kyLRFlr06P6ne8vSVgJGyPmFsAK9Pf42KaswAtYwRzEyap2E7b6dRHWvdBMr5iU=w1366-h633-rw-v1)\n",
        "\n",
        "![Anexo4](https://lh3.googleusercontent.com/u/1/drive-viewer/AKGpihZqcmGVlqpTn0i37Sc7Mwtrxp_m7OzN_pt01p3nMlK_ncj3-r0uhP_Uktt9ah-V-MGjF9CTgO2cdoc5xWuv3XtX3NkJCEBJMg=w1366-h633)\n",
        "\n",
        "---\n",
        "\n",
        "* Tercera prueba:\n",
        "\n",
        "![Anexo5](https://lh3.googleusercontent.com/u/1/drive-viewer/AKGpihbk5JPsfv3HOyxgaB5BvW0erh92QfvZYvZDihtADpBC-kaL6cjsUHZo2R34sVY1V7bC0Utqwxo67qRD23yBqJAxCfJStnNwQPY=w1366-h633-rw-v1)\n",
        "\n",
        "![Anexo6](https://lh3.googleusercontent.com/u/1/drive-viewer/AKGpihZDzIS0qkeNoqgetIRDirOQvqlzZCtGg5gUgB1bW-Tc-SU_VQN9DAzkSZC7E1SxRdFLW6YJZSS6P_D_8XZ7b8nRFTq_oAVsVQ=w1366-h633)\n",
        "\n",
        "---\n",
        "\n",
        "* Cuarta prueba:\n",
        "\n",
        "![Anexo7](https://lh3.googleusercontent.com/u/1/drive-viewer/AKGpihb5MfahbdH7k8b3ks3TdDnvswIj7WiMkrqafCZmuli0CdusOevcXv4-_MT6TcP1Br17nkx4wNpLEu3CaYZ3BCdCE3pNApxHc2g=w1366-h633-rw-v1)\n",
        "\n",
        "![Anexo8](https://lh3.googleusercontent.com/u/1/drive-viewer/AKGpihYdDx4rLv8lxEGxuHtI9RZ8tKiI5Z8gouwZP0iGELTqJF1f2wtmTMnDsS_VOkOuKqzdYvtLUADHKxeNAuR4vtsQ-AQ170S7QA=w1366-h633)\n",
        "\n",
        "\n",
        "---\n",
        "\n",
        "* Quinta prueba:\n",
        "\n",
        "![Anexo9](https://lh3.googleusercontent.com/u/1/drive-viewer/AKGpihY1xA19E52nX-OwMJOilxxeR9s2SjNS6_EZ8mLS2W7pGFYKyIxqWd6zXBb7dbGnlFytRVSge0MEXHok_CBJtP10rw8ogOKUlzg=w1366-h633-rw-v1)\n",
        "\n",
        "![Anexo10](https://lh3.googleusercontent.com/u/1/drive-viewer/AKGpihZ4MxAX4nCfNjwcDHtah1Zd5Pmr6cAa7K5Ww2D5mHXZZHDhVRrufzKy61DDHP3-MQUEVTvgfsEmGQ16moIBFNLI2oBT-b30gQ=w1366-h633)"
      ],
      "metadata": {
        "id": "56mYsGlT5hwr"
      },
      "id": "56mYsGlT5hwr"
    },
    {
      "cell_type": "markdown",
      "id": "acceptable-knowing",
      "metadata": {
        "id": "acceptable-knowing"
      },
      "source": [
        "### Conclusiones:\n",
        "\n",
        "El modelo RNA modificado ha mejorado significativamente su rendimiento, alcanzando un AUC (Área bajo la curva) de 0.87, que es superior al umbral de 0.86 requerido para la actividad. Los cambios del modelo y la cantidad de entradas han resultado en una mejora que cumple con los criterios establecidos, también hay que tener en cuenta que con un pequeño cambio realizado en la cuarta prueba pudimos alcanzar el resultado solicitado pero no superarlo.\n",
        "\n",
        "\n",
        "El código base presentaba la siguiente arquitectura:\n",
        "\n",
        "![Anexo1](https://lh3.googleusercontent.com/u/1/drive-viewer/AKGpihaalzV3hn3nIakv4dwHxAI8Q5gKBQfwV7rjuynGjdp72ocaTWBxsr48DF9SCV3kKL8OHYCfZ8UdJ9kBrJ2b9u5DXL8OCPeeJOg=w1366-h633-rw-v1)\n",
        "\n",
        "\n",
        "\n"
      ]
    },
    {
      "cell_type": "markdown",
      "source": [
        "#### Informe diseñado por:\n",
        "\n",
        "#####Breiner Spencer Barrios Asprilla - **121230**\n",
        "#####Johan Sebastian Quintero Vargas - **107699**\n",
        "#####Jason Rodriguez - **99229**\n",
        "#####Daniel Gutierrez - **90378**"
      ],
      "metadata": {
        "id": "hAff01-jWk8d"
      },
      "id": "hAff01-jWk8d"
    }
  ],
  "metadata": {
    "kernelspec": {
      "display_name": "Python (bertgpu)",
      "language": "python",
      "name": "bertgpu"
    },
    "language_info": {
      "codemirror_mode": {
        "name": "ipython",
        "version": 3
      },
      "file_extension": ".py",
      "mimetype": "text/x-python",
      "name": "python",
      "nbconvert_exporter": "python",
      "pygments_lexer": "ipython3",
      "version": "3.7.10"
    },
    "colab": {
      "provenance": [],
      "include_colab_link": true
    }
  },
  "nbformat": 4,
  "nbformat_minor": 5
}